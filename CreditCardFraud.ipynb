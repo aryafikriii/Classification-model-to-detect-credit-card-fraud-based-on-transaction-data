{
 "cells": [
  {
   "cell_type": "code",
   "execution_count": 1,
   "metadata": {},
   "outputs": [],
   "source": [
    "import pandas as pd\n",
    "import matplotlib.pyplot as plt\n",
    "import seaborn as sns\n",
    "import matplotlib.pyplot as plt\n",
    "\n",
    "from sklearn.model_selection import train_test_split\n",
    "from sklearn.preprocessing import StandardScaler\n",
    "from imblearn.under_sampling import RandomUnderSampler\n",
    "from sklearn.linear_model import LogisticRegression\n",
    "from sklearn.metrics import accuracy_score, precision_score, recall_score, f1_score, average_precision_score\n",
    "from sklearn.metrics import precision_recall_curve"
   ]
  },
  {
   "attachments": {},
   "cell_type": "markdown",
   "metadata": {},
   "source": [
    "# Data Exploration "
   ]
  },
  {
   "cell_type": "code",
   "execution_count": 2,
   "metadata": {},
   "outputs": [
    {
     "name": "stdout",
     "output_type": "stream",
     "text": [
      "-------- Data Exploration --------\n",
      "Dataset Head:\n",
      "   Time        V1        V2        V3        V4        V5        V6        V7   \n",
      "0   0.0 -1.359807 -0.072781  2.536347  1.378155 -0.338321  0.462388  0.239599  \\\n",
      "1   0.0  1.191857  0.266151  0.166480  0.448154  0.060018 -0.082361 -0.078803   \n",
      "2   1.0 -1.358354 -1.340163  1.773209  0.379780 -0.503198  1.800499  0.791461   \n",
      "3   1.0 -0.966272 -0.185226  1.792993 -0.863291 -0.010309  1.247203  0.237609   \n",
      "4   2.0 -1.158233  0.877737  1.548718  0.403034 -0.407193  0.095921  0.592941   \n",
      "\n",
      "         V8        V9  ...       V21       V22       V23       V24       V25   \n",
      "0  0.098698  0.363787  ... -0.018307  0.277838 -0.110474  0.066928  0.128539  \\\n",
      "1  0.085102 -0.255425  ... -0.225775 -0.638672  0.101288 -0.339846  0.167170   \n",
      "2  0.247676 -1.514654  ...  0.247998  0.771679  0.909412 -0.689281 -0.327642   \n",
      "3  0.377436 -1.387024  ... -0.108300  0.005274 -0.190321 -1.175575  0.647376   \n",
      "4 -0.270533  0.817739  ... -0.009431  0.798278 -0.137458  0.141267 -0.206010   \n",
      "\n",
      "        V26       V27       V28  Amount  Class  \n",
      "0 -0.189115  0.133558 -0.021053  149.62      0  \n",
      "1  0.125895 -0.008983  0.014724    2.69      0  \n",
      "2 -0.139097 -0.055353 -0.059752  378.66      0  \n",
      "3 -0.221929  0.062723  0.061458  123.50      0  \n",
      "4  0.502292  0.219422  0.215153   69.99      0  \n",
      "\n",
      "[5 rows x 31 columns]\n",
      "\n",
      "Dataset Info:\n",
      "<class 'pandas.core.frame.DataFrame'>\n",
      "RangeIndex: 284807 entries, 0 to 284806\n",
      "Data columns (total 31 columns):\n",
      " #   Column  Non-Null Count   Dtype  \n",
      "---  ------  --------------   -----  \n",
      " 0   Time    284807 non-null  float64\n",
      " 1   V1      284807 non-null  float64\n",
      " 2   V2      284807 non-null  float64\n",
      " 3   V3      284807 non-null  float64\n",
      " 4   V4      284807 non-null  float64\n",
      " 5   V5      284807 non-null  float64\n",
      " 6   V6      284807 non-null  float64\n",
      " 7   V7      284807 non-null  float64\n",
      " 8   V8      284807 non-null  float64\n",
      " 9   V9      284807 non-null  float64\n",
      " 10  V10     284807 non-null  float64\n",
      " 11  V11     284807 non-null  float64\n",
      " 12  V12     284807 non-null  float64\n",
      " 13  V13     284807 non-null  float64\n",
      " 14  V14     284807 non-null  float64\n",
      " 15  V15     284807 non-null  float64\n",
      " 16  V16     284807 non-null  float64\n",
      " 17  V17     284807 non-null  float64\n",
      " 18  V18     284807 non-null  float64\n",
      " 19  V19     284807 non-null  float64\n",
      " 20  V20     284807 non-null  float64\n",
      " 21  V21     284807 non-null  float64\n",
      " 22  V22     284807 non-null  float64\n",
      " 23  V23     284807 non-null  float64\n",
      " 24  V24     284807 non-null  float64\n",
      " 25  V25     284807 non-null  float64\n",
      " 26  V26     284807 non-null  float64\n",
      " 27  V27     284807 non-null  float64\n",
      " 28  V28     284807 non-null  float64\n",
      " 29  Amount  284807 non-null  float64\n",
      " 30  Class   284807 non-null  int64  \n",
      "dtypes: float64(30), int64(1)\n",
      "memory usage: 67.4 MB\n",
      "None\n",
      "\n",
      "Class Distribution:\n",
      "Class\n",
      "0    284315\n",
      "1       492\n",
      "Name: count, dtype: int64\n"
     ]
    },
    {
     "data": {
      "image/png": "[encoded data removed]",
      "text/plain": [
       "<Figure size 800x600 with 1 Axes>"
      ]
     },
     "metadata": {},
     "output_type": "display_data"
    }
   ],
   "source": [
    "# Load the dataset\n",
    "data = pd.read_csv('Data/creditcard.csv')  # Replace 'credit_card_fraud.csv' with the actual filename\n",
    "\n",
    "# Data Exploration\n",
    "print(\"-------- Data Exploration --------\")\n",
    "\n",
    "# Display the first few rows of the dataset\n",
    "print(\"Dataset Head:\")\n",
    "print(data.head())\n",
    "\n",
    "# Get information about the dataset\n",
    "print(\"\\nDataset Info:\")\n",
    "print(data.info())\n",
    "\n",
    "# Count the occurrences of each class (fraud or not fraud)\n",
    "class_counts = data['Class'].value_counts()\n",
    "print(\"\\nClass Distribution:\")\n",
    "print(class_counts)\n",
    "\n",
    "# Visualize the class distribution\n",
    "plt.figure(figsize=(8, 6))\n",
    "sns.countplot(x='Class', data=data)\n",
    "plt.title(\"Class Distribution\")\n",
    "plt.xlabel(\"Class\")\n",
    "plt.ylabel(\"Count\")\n",
    "plt.show()\n"
   ]
  },
  {
   "attachments": {},
   "cell_type": "markdown",
   "metadata": {},
   "source": [
    "## we perform the following data exploration techniques:\n",
    "\n",
    "### Displaying the first few rows of the dataset:\n",
    "\n",
    "The head() method is used to display the first few rows of the dataset, giving us a quick overview of the data's structure and content.\n",
    "It helps us verify that the dataset is loaded correctly and check the column names and their corresponding values.\n",
    "\n",
    "### Getting information about the dataset:\n",
    "\n",
    "The info() method is used to get information about the dataset, such as the number of rows, column names, and data types.\n",
    "It provides a summary of the dataset's structure and allows us to identify missing values or inconsistencies in the data types.\n",
    "\n",
    "### Counting the occurrences of each class:\n",
    "The value_counts() method is used to count the occurrences of each class in the target variable (fraud or not fraud).\n",
    "This analysis helps us understand the class distribution and identify potential class imbalance issues.\n",
    "\n",
    "### Visualizing the class distribution:\n",
    "\n",
    "The countplot() function from the seaborn library is used to create a bar plot that visualizes the class distribution.\n",
    "This plot provides a visual representation of the number of instances in each class and allows us to assess the class imbalance, if any.\n",
    "It helps us determine if the dataset is balanced or imbalanced, which is important for selecting appropriate strategies to handle class imbalance during model training.\n",
    "By performing these data exploration techniques, we gain a better understanding of the dataset's structure, class distribution, and potential class imbalance issues. These insights will guide us in making informed decisions during the subsequent stages of the project, such as data preprocessing and model building."
   ]
  },
  {
   "attachments": {},
   "cell_type": "markdown",
   "metadata": {},
   "source": [
    "# Data Preprocessing"
   ]
  },
  {
   "cell_type": "code",
   "execution_count": 3,
   "metadata": {},
   "outputs": [],
   "source": [
    "# Split the data into features and target variable\n",
    "X = data.drop('Class', axis=1)\n",
    "y = data['Class']\n",
    "\n",
    "# Perform under-sampling to handle class imbalance\n",
    "rus = RandomUnderSampler(random_state=42)\n",
    "X_resampled, y_resampled = rus.fit_resample(X, y)\n",
    "\n",
    "# Scale the numerical features\n",
    "scaler = StandardScaler()\n",
    "X_scaled = scaler.fit_transform(X_resampled)\n",
    "\n",
    "# Split the data into training and testing sets\n",
    "X_train, X_test, y_train, y_test = train_test_split(X_scaled, y_resampled, test_size=0.2, random_state=42)\n"
   ]
  },
  {
   "attachments": {},
   "cell_type": "markdown",
   "metadata": {},
   "source": [
    "##### Here, we split the dataset into features (X) and the target variable (y) using pandas' drop() method. The features contain all columns except the target variable.\n",
    "##### If there is a class imbalance, we address it using undersampling. The RandomUnderSampler randomly removes instances from the majority class to balance the classes. This is crucial to ensure that the model is not biased towards the majority class.\n",
    "##### If there are numerical features in the dataset, we scale them using the StandardScaler from scikit-learn. Scaling the features brings them to a similar scale, which can help improve the performance of certain algorithms that are sensitive to the scale of the input data.\n",
    "##### Finally, we split the preprocessed data into training and testing sets using scikit-learn's train_test_split() function. This allows us to train the model on a portion of the data and evaluate its performance on unseen data."
   ]
  },
  {
   "attachments": {},
   "cell_type": "markdown",
   "metadata": {},
   "source": [
    "# Model Building"
   ]
  },
  {
   "cell_type": "code",
   "execution_count": 4,
   "metadata": {},
   "outputs": [
    {
     "name": "stdout",
     "output_type": "stream",
     "text": [
      "Accuracy: 0.9289340101522843\n",
      "Precision: 0.9565217391304348\n",
      "Recall: 0.8979591836734694\n",
      "F1-score: 0.9263157894736843\n",
      "Average Precision: 0.9096789013552895\n"
     ]
    },
    {
     "data": {
      "image/png": "[encoded data removed]",
      "text/plain": [
       "<Figure size 640x480 with 1 Axes>"
      ]
     },
     "metadata": {},
     "output_type": "display_data"
    }
   ],
   "source": [
    "# Initialize the logistic regression model\n",
    "model = LogisticRegression()\n",
    "\n",
    "# Train the model\n",
    "model.fit(X_train, y_train)\n",
    "\n",
    "# Make predictions on the testing data\n",
    "y_pred = model.predict(X_test)\n",
    "\n",
    "# Evaluate the model\n",
    "accuracy = accuracy_score(y_test, y_pred)\n",
    "precision = precision_score(y_test, y_pred)\n",
    "recall = recall_score(y_test, y_pred)\n",
    "f1 = f1_score(y_test, y_pred)\n",
    "average_precision = average_precision_score(y_test, y_pred)\n",
    "\n",
    "# Print the evaluation metrics\n",
    "print(\"Accuracy:\", accuracy)\n",
    "print(\"Precision:\", precision)\n",
    "print(\"Recall:\", recall)\n",
    "print(\"F1-score:\", f1)\n",
    "print(\"Average Precision:\", average_precision)\n",
    "\n",
    "# Compute precision-recall curve\n",
    "precision, recall, _ = precision_recall_curve(y_test, y_pred)\n",
    "\n",
    "# Plot precision-recall curve\n",
    "plt.plot(recall, precision)\n",
    "plt.xlabel('Recall')\n",
    "plt.ylabel('Precision')\n",
    "plt.title('Precision-Recall Curve')\n",
    "plt.show()"
   ]
  },
  {
   "attachments": {},
   "cell_type": "markdown",
   "metadata": {},
   "source": [
    "### Model Building:\n",
    "\n",
    "##### \n",
    "In this section, we choose a classification algorithm, logistic regression in this case, by initializing the LogisticRegression model from scikit-learn.\n",
    "##### \n",
    "The model is trained on the training data using the fit() method. This process involves finding the optimal parameters that minimize the difference between the predicted and actual classes in the training data.\n",
    "\n",
    "## Model Evaluation:\n",
    "\n",
    "##### Here, we make predictions on the testing data using the trained model's predict() method. The model applies the learned patterns to new, unseen data and predicts whether each instance is fraudulent or not.\n",
    "##### The performance of the model is evaluated using various metrics:\n",
    "##### Accuracy: It measures the overall correctness of the model's predictions.\n",
    "##### Precision: It quantifies the model's ability to correctly identify fraudulent transactions, minimizing false positives.\n",
    "##### Recall: It measures the model's ability to correctly identify all actual fraudulent transactions, minimizing false negatives.\n",
    "##### F1-score: It provides a balance between precision and recall.\n",
    "##### Average Precision: It calculates the average precision across different thresholds and is particularly useful when dealing with imbalanced datasets.\n",
    "we print these evaluation metrics to assess the performance of the classification model."
   ]
  },
  {
   "cell_type": "code",
   "execution_count": 5,
   "metadata": {},
   "outputs": [
    {
     "name": "stdout",
     "output_type": "stream",
     "text": [
      "-------- Conclusion --------\n",
      "The classification model was built to detect credit card fraud based on transaction data.\n",
      "Evaluation Metrics:\n",
      "Accuracy          : 0.9289340101522843\n",
      "Precision         : [0.49746193 0.95652174 1.        ]\n",
      "Recall            : [1.         0.89795918 0.        ]\n",
      "F1-score          : 0.9263157894736843\n",
      "Average Precision : 0.9096789013552895\n",
      "\n",
      "-------- Reflection and Future Improvements --------\n",
      "1. Class Imbalance: The dataset had a significant class imbalance, which was addressed using under-sampling.\n",
      "   In future work, experimenting with other techniques such as oversampling or cost-sensitive learning can be explored.\n",
      "2. Model Selection: Logistic regression was used as the classification algorithm in this project.\n",
      "   Further investigation can be done to compare the performance of other algorithms and ensemble methods.\n",
      "3. Feature Engineering: Additional feature engineering techniques can be applied to enhance the model's predictive power.\n",
      "4. Real-time Implementation: Consideration of the computational efficiency and scalability of the model for real-time fraud detection systems.\n",
      "\n",
      "Thank you for following along with this project!\n"
     ]
    }
   ],
   "source": [
    "# Summarize the key findings and outcomes of the project\n",
    "print(\"-------- Conclusion --------\")\n",
    "print(\"The classification model was built to detect credit card fraud based on transaction data.\")\n",
    "print(\"Evaluation Metrics:\")\n",
    "print(\"Accuracy          :\", accuracy)\n",
    "print(\"Precision         :\", precision)\n",
    "print(\"Recall            :\", recall)\n",
    "print(\"F1-score          :\", f1)\n",
    "print(\"Average Precision :\", average_precision)\n",
    "\n",
    "# Reflect on the limitations and potential future improvements\n",
    "print(\"\\n-------- Reflection and Future Improvements --------\")\n",
    "print(\"1. Class Imbalance: The dataset had a significant class imbalance, which was addressed using under-sampling.\")\n",
    "print(\"   In future work, experimenting with other techniques such as oversampling or cost-sensitive learning can be explored.\")\n",
    "print(\"2. Model Selection: Logistic regression was used as the classification algorithm in this project.\")\n",
    "print(\"   Further investigation can be done to compare the performance of other algorithms and ensemble methods.\")\n",
    "print(\"3. Feature Engineering: Additional feature engineering techniques can be applied to enhance the model's predictive power.\")\n",
    "print(\"4. Real-time Implementation: Consideration of the computational efficiency and scalability of the model for real-time fraud detection systems.\")\n",
    "\n",
    "print(\"\\nThank you for following along with this project!\")"
   ]
  }
 ],
 "metadata": {
  "kernelspec": {
   "display_name": "Python 3",
   "language": "python",
   "name": "python3"
  },
  "language_info": {
   "codemirror_mode": {
    "name": "ipython",
    "version": 3
   },
   "file_extension": ".py",
   "mimetype": "text/x-python",
   "name": "python",
   "nbconvert_exporter": "python",
   "pygments_lexer": "ipython3",
   "version": "3.11.3"
  },
  "orig_nbformat": 4
 },
 "nbformat": 4,
 "nbformat_minor": 2
}
